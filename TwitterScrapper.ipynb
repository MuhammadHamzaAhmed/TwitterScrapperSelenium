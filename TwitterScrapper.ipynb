{
  "cells": [
    {
      "cell_type": "code",
      "execution_count": null,
      "id": "a7d083c0-e377-45b2-967f-b1dd8926c298",
      "metadata": {
        "id": "a7d083c0-e377-45b2-967f-b1dd8926c298",
        "outputId": "4e32a01f-4b4c-4e0e-ad87-fbd0dcaf703d"
      },
      "outputs": [
        {
          "name": "stdout",
          "output_type": "stream",
          "text": [
            "Collecting selenium\n",
            "  Using cached selenium-4.1.0-py3-none-any.whl (958 kB)\n",
            "Requirement already satisfied: urllib3[secure]~=1.26 in /Users/muhammadhamza/opt/anaconda3/lib/python3.9/site-packages (from selenium) (1.26.7)\n",
            "Collecting trio~=0.17\n",
            "  Using cached trio-0.19.0-py3-none-any.whl (356 kB)\n",
            "Collecting trio-websocket~=0.9\n",
            "  Using cached trio_websocket-0.9.2-py3-none-any.whl (16 kB)\n",
            "Requirement already satisfied: async-generator>=1.9 in /Users/muhammadhamza/opt/anaconda3/lib/python3.9/site-packages (from trio~=0.17->selenium) (1.10)\n",
            "Requirement already satisfied: sortedcontainers in /Users/muhammadhamza/opt/anaconda3/lib/python3.9/site-packages (from trio~=0.17->selenium) (2.4.0)\n",
            "Collecting outcome\n",
            "  Using cached outcome-1.1.0-py2.py3-none-any.whl (9.7 kB)\n",
            "Requirement already satisfied: idna in /Users/muhammadhamza/opt/anaconda3/lib/python3.9/site-packages (from trio~=0.17->selenium) (3.2)\n",
            "Requirement already satisfied: sniffio in /Users/muhammadhamza/opt/anaconda3/lib/python3.9/site-packages (from trio~=0.17->selenium) (1.2.0)\n",
            "Requirement already satisfied: attrs>=19.2.0 in /Users/muhammadhamza/opt/anaconda3/lib/python3.9/site-packages (from trio~=0.17->selenium) (21.2.0)\n",
            "Collecting wsproto>=0.14\n",
            "  Using cached wsproto-1.0.0-py3-none-any.whl (24 kB)\n",
            "Requirement already satisfied: pyOpenSSL>=0.14 in /Users/muhammadhamza/opt/anaconda3/lib/python3.9/site-packages (from urllib3[secure]~=1.26->selenium) (21.0.0)\n",
            "Requirement already satisfied: cryptography>=1.3.4 in /Users/muhammadhamza/opt/anaconda3/lib/python3.9/site-packages (from urllib3[secure]~=1.26->selenium) (3.4.8)\n",
            "Requirement already satisfied: certifi in /Users/muhammadhamza/opt/anaconda3/lib/python3.9/site-packages (from urllib3[secure]~=1.26->selenium) (2021.10.8)\n",
            "Requirement already satisfied: cffi>=1.12 in /Users/muhammadhamza/opt/anaconda3/lib/python3.9/site-packages (from cryptography>=1.3.4->urllib3[secure]~=1.26->selenium) (1.14.6)\n",
            "Requirement already satisfied: pycparser in /Users/muhammadhamza/opt/anaconda3/lib/python3.9/site-packages (from cffi>=1.12->cryptography>=1.3.4->urllib3[secure]~=1.26->selenium) (2.20)\n",
            "Requirement already satisfied: six>=1.5.2 in /Users/muhammadhamza/opt/anaconda3/lib/python3.9/site-packages (from pyOpenSSL>=0.14->urllib3[secure]~=1.26->selenium) (1.16.0)\n",
            "Collecting h11<1,>=0.9.0\n",
            "  Using cached h11-0.12.0-py3-none-any.whl (54 kB)\n",
            "Installing collected packages: outcome, h11, wsproto, trio, trio-websocket, selenium\n",
            "Successfully installed h11-0.12.0 outcome-1.1.0 selenium-4.1.0 trio-0.19.0 trio-websocket-0.9.2 wsproto-1.0.0\n",
            "Note: you may need to restart the kernel to use updated packages.\n"
          ]
        }
      ],
      "source": [
        "pip install selenium"
      ]
    },
    {
      "cell_type": "code",
      "execution_count": null,
      "id": "8e7f0ae5",
      "metadata": {
        "id": "8e7f0ae5"
      },
      "outputs": [],
      "source": [
        "import csv\n",
        "from cryptography.fernet import Fernet\n",
        "from getpass import getpass\n",
        "from time import sleep\n",
        "from selenium.webdriver import Safari\n",
        "from selenium.webdriver.common.keys import Keys\n",
        "from selenium.common.exceptions import NoSuchElementException\n",
        "from selenium.webdriver.support.ui import Select"
      ]
    },
    {
      "cell_type": "code",
      "execution_count": null,
      "id": "fbe60bd6-efa9-46d4-a916-7a3e2edac510",
      "metadata": {
        "id": "fbe60bd6-efa9-46d4-a916-7a3e2edac510"
      },
      "outputs": [],
      "source": [
        "browser = Safari()\n",
        "browser.get('https://cuonline.ciitwah.edu.pk:8090')\n",
        "browser.implicitly_wait(10)\n",
        "browser.maximize_window()"
      ]
    },
    {
      "cell_type": "code",
      "execution_count": null,
      "id": "02aa6986-d891-4656-b212-5db71f5e5754",
      "metadata": {
        "id": "02aa6986-d891-4656-b212-5db71f5e5754",
        "outputId": "82359551-f0e9-4013-89cc-e95c88fd01e1"
      },
      "outputs": [
        {
          "name": "stderr",
          "output_type": "stream",
          "text": [
            "/var/folders/6h/d_sj51tn0nx_3dttgg2_g01w0000gn/T/ipykernel_92415/4111929824.py:1: DeprecationWarning: find_element_by_* commands are deprecated. Please use find_element() instead\n",
            "  uname = browser.find_element_by_id('MaskedRegNo')\n"
          ]
        }
      ],
      "source": [
        "uname = browser.find_element_by_id('MaskedRegNo')"
      ]
    },
    {
      "cell_type": "code",
      "execution_count": null,
      "id": "776159ca",
      "metadata": {
        "id": "776159ca"
      },
      "outputs": [],
      "source": [
        "uname.send_keys('username')"
      ]
    },
    {
      "cell_type": "code",
      "execution_count": null,
      "id": "5110ef99-7811-4185-803f-0197c5890851",
      "metadata": {
        "id": "5110ef99-7811-4185-803f-0197c5890851",
        "outputId": "5fe6dcd3-0365-45c2-d11d-693fe0775399"
      },
      "outputs": [
        {
          "name": "stderr",
          "output_type": "stream",
          "text": [
            "/var/folders/6h/d_sj51tn0nx_3dttgg2_g01w0000gn/T/ipykernel_92415/1470998001.py:1: DeprecationWarning: find_element_by_* commands are deprecated. Please use find_element() instead\n",
            "  passText = browser.find_element_by_name('Password')\n"
          ]
        }
      ],
      "source": [
        "passText = browser.find_element_by_name('Password')\n",
        "passText.send_keys(\"password\")"
      ]
    },
    {
      "cell_type": "code",
      "execution_count": null,
      "id": "8f856788-9e3f-406e-93b6-efdee14a9e6e",
      "metadata": {
        "id": "8f856788-9e3f-406e-93b6-efdee14a9e6e",
        "outputId": "d098dd9e-822c-4383-dfd9-2969cce4760d"
      },
      "outputs": [
        {
          "name": "stderr",
          "output_type": "stream",
          "text": [
            "/var/folders/6h/d_sj51tn0nx_3dttgg2_g01w0000gn/T/ipykernel_92415/703633922.py:1: DeprecationWarning: find_element_by_* commands are deprecated. Please use find_element() instead\n",
            "  search_input = browser.find_element_by_xpath('//div[@role = \"presentation\"]')\n"
          ]
        },
        {
          "ename": "NoSuchElementException",
          "evalue": "Message: \n",
          "output_type": "error",
          "traceback": [
            "\u001b[0;31m---------------------------------------------------------------------------\u001b[0m",
            "\u001b[0;31mNoSuchElementException\u001b[0m                    Traceback (most recent call last)",
            "\u001b[0;32m/var/folders/6h/d_sj51tn0nx_3dttgg2_g01w0000gn/T/ipykernel_92415/703633922.py\u001b[0m in \u001b[0;36m<module>\u001b[0;34m\u001b[0m\n\u001b[0;32m----> 1\u001b[0;31m \u001b[0msearch_input\u001b[0m \u001b[0;34m=\u001b[0m \u001b[0mbrowser\u001b[0m\u001b[0;34m.\u001b[0m\u001b[0mfind_element_by_xpath\u001b[0m\u001b[0;34m(\u001b[0m\u001b[0;34m'//div[@role = \"presentation\"]'\u001b[0m\u001b[0;34m)\u001b[0m\u001b[0;34m\u001b[0m\u001b[0;34m\u001b[0m\u001b[0m\n\u001b[0m",
            "\u001b[0;32m~/opt/anaconda3/lib/python3.9/site-packages/selenium/webdriver/remote/webdriver.py\u001b[0m in \u001b[0;36mfind_element_by_xpath\u001b[0;34m(self, xpath)\u001b[0m\n\u001b[1;32m    518\u001b[0m             \u001b[0mstacklevel\u001b[0m\u001b[0;34m=\u001b[0m\u001b[0;36m2\u001b[0m\u001b[0;34m,\u001b[0m\u001b[0;34m\u001b[0m\u001b[0;34m\u001b[0m\u001b[0m\n\u001b[1;32m    519\u001b[0m         )\n\u001b[0;32m--> 520\u001b[0;31m         \u001b[0;32mreturn\u001b[0m \u001b[0mself\u001b[0m\u001b[0;34m.\u001b[0m\u001b[0mfind_element\u001b[0m\u001b[0;34m(\u001b[0m\u001b[0mby\u001b[0m\u001b[0;34m=\u001b[0m\u001b[0mBy\u001b[0m\u001b[0;34m.\u001b[0m\u001b[0mXPATH\u001b[0m\u001b[0;34m,\u001b[0m \u001b[0mvalue\u001b[0m\u001b[0;34m=\u001b[0m\u001b[0mxpath\u001b[0m\u001b[0;34m)\u001b[0m\u001b[0;34m\u001b[0m\u001b[0;34m\u001b[0m\u001b[0m\n\u001b[0m\u001b[1;32m    521\u001b[0m \u001b[0;34m\u001b[0m\u001b[0m\n\u001b[1;32m    522\u001b[0m     \u001b[0;32mdef\u001b[0m \u001b[0mfind_elements_by_xpath\u001b[0m\u001b[0;34m(\u001b[0m\u001b[0mself\u001b[0m\u001b[0;34m,\u001b[0m \u001b[0mxpath\u001b[0m\u001b[0;34m)\u001b[0m \u001b[0;34m->\u001b[0m \u001b[0mWebElement\u001b[0m\u001b[0;34m:\u001b[0m\u001b[0;34m\u001b[0m\u001b[0;34m\u001b[0m\u001b[0m\n",
            "\u001b[0;32m~/opt/anaconda3/lib/python3.9/site-packages/selenium/webdriver/remote/webdriver.py\u001b[0m in \u001b[0;36mfind_element\u001b[0;34m(self, by, value)\u001b[0m\n\u001b[1;32m   1242\u001b[0m             \u001b[0mvalue\u001b[0m \u001b[0;34m=\u001b[0m \u001b[0;34m'[name=\"%s\"]'\u001b[0m \u001b[0;34m%\u001b[0m \u001b[0mvalue\u001b[0m\u001b[0;34m\u001b[0m\u001b[0;34m\u001b[0m\u001b[0m\n\u001b[1;32m   1243\u001b[0m \u001b[0;34m\u001b[0m\u001b[0m\n\u001b[0;32m-> 1244\u001b[0;31m         return self.execute(Command.FIND_ELEMENT, {\n\u001b[0m\u001b[1;32m   1245\u001b[0m             \u001b[0;34m'using'\u001b[0m\u001b[0;34m:\u001b[0m \u001b[0mby\u001b[0m\u001b[0;34m,\u001b[0m\u001b[0;34m\u001b[0m\u001b[0;34m\u001b[0m\u001b[0m\n\u001b[1;32m   1246\u001b[0m             'value': value})['value']\n",
            "\u001b[0;32m~/opt/anaconda3/lib/python3.9/site-packages/selenium/webdriver/remote/webdriver.py\u001b[0m in \u001b[0;36mexecute\u001b[0;34m(self, driver_command, params)\u001b[0m\n\u001b[1;32m    422\u001b[0m         \u001b[0mresponse\u001b[0m \u001b[0;34m=\u001b[0m \u001b[0mself\u001b[0m\u001b[0;34m.\u001b[0m\u001b[0mcommand_executor\u001b[0m\u001b[0;34m.\u001b[0m\u001b[0mexecute\u001b[0m\u001b[0;34m(\u001b[0m\u001b[0mdriver_command\u001b[0m\u001b[0;34m,\u001b[0m \u001b[0mparams\u001b[0m\u001b[0;34m)\u001b[0m\u001b[0;34m\u001b[0m\u001b[0;34m\u001b[0m\u001b[0m\n\u001b[1;32m    423\u001b[0m         \u001b[0;32mif\u001b[0m \u001b[0mresponse\u001b[0m\u001b[0;34m:\u001b[0m\u001b[0;34m\u001b[0m\u001b[0;34m\u001b[0m\u001b[0m\n\u001b[0;32m--> 424\u001b[0;31m             \u001b[0mself\u001b[0m\u001b[0;34m.\u001b[0m\u001b[0merror_handler\u001b[0m\u001b[0;34m.\u001b[0m\u001b[0mcheck_response\u001b[0m\u001b[0;34m(\u001b[0m\u001b[0mresponse\u001b[0m\u001b[0;34m)\u001b[0m\u001b[0;34m\u001b[0m\u001b[0;34m\u001b[0m\u001b[0m\n\u001b[0m\u001b[1;32m    425\u001b[0m             response['value'] = self._unwrap_value(\n\u001b[1;32m    426\u001b[0m                 response.get('value', None))\n",
            "\u001b[0;32m~/opt/anaconda3/lib/python3.9/site-packages/selenium/webdriver/remote/errorhandler.py\u001b[0m in \u001b[0;36mcheck_response\u001b[0;34m(self, response)\u001b[0m\n\u001b[1;32m    245\u001b[0m                 \u001b[0malert_text\u001b[0m \u001b[0;34m=\u001b[0m \u001b[0mvalue\u001b[0m\u001b[0;34m[\u001b[0m\u001b[0;34m'alert'\u001b[0m\u001b[0;34m]\u001b[0m\u001b[0;34m.\u001b[0m\u001b[0mget\u001b[0m\u001b[0;34m(\u001b[0m\u001b[0;34m'text'\u001b[0m\u001b[0;34m)\u001b[0m\u001b[0;34m\u001b[0m\u001b[0;34m\u001b[0m\u001b[0m\n\u001b[1;32m    246\u001b[0m             \u001b[0;32mraise\u001b[0m \u001b[0mexception_class\u001b[0m\u001b[0;34m(\u001b[0m\u001b[0mmessage\u001b[0m\u001b[0;34m,\u001b[0m \u001b[0mscreen\u001b[0m\u001b[0;34m,\u001b[0m \u001b[0mstacktrace\u001b[0m\u001b[0;34m,\u001b[0m \u001b[0malert_text\u001b[0m\u001b[0;34m)\u001b[0m  \u001b[0;31m# type: ignore[call-arg]  # mypy is not smart enough here\u001b[0m\u001b[0;34m\u001b[0m\u001b[0;34m\u001b[0m\u001b[0m\n\u001b[0;32m--> 247\u001b[0;31m         \u001b[0;32mraise\u001b[0m \u001b[0mexception_class\u001b[0m\u001b[0;34m(\u001b[0m\u001b[0mmessage\u001b[0m\u001b[0;34m,\u001b[0m \u001b[0mscreen\u001b[0m\u001b[0;34m,\u001b[0m \u001b[0mstacktrace\u001b[0m\u001b[0;34m)\u001b[0m\u001b[0;34m\u001b[0m\u001b[0;34m\u001b[0m\u001b[0m\n\u001b[0m\u001b[1;32m    248\u001b[0m \u001b[0;34m\u001b[0m\u001b[0m\n\u001b[1;32m    249\u001b[0m     \u001b[0;32mdef\u001b[0m \u001b[0m_value_or_default\u001b[0m\u001b[0;34m(\u001b[0m\u001b[0mself\u001b[0m\u001b[0;34m,\u001b[0m \u001b[0mobj\u001b[0m\u001b[0;34m:\u001b[0m \u001b[0mMapping\u001b[0m\u001b[0;34m[\u001b[0m\u001b[0m_KT\u001b[0m\u001b[0;34m,\u001b[0m \u001b[0m_VT\u001b[0m\u001b[0;34m]\u001b[0m\u001b[0;34m,\u001b[0m \u001b[0mkey\u001b[0m\u001b[0;34m:\u001b[0m \u001b[0m_KT\u001b[0m\u001b[0;34m,\u001b[0m \u001b[0mdefault\u001b[0m\u001b[0;34m:\u001b[0m \u001b[0m_VT\u001b[0m\u001b[0;34m)\u001b[0m \u001b[0;34m->\u001b[0m \u001b[0m_VT\u001b[0m\u001b[0;34m:\u001b[0m\u001b[0;34m\u001b[0m\u001b[0;34m\u001b[0m\u001b[0m\n",
            "\u001b[0;31mNoSuchElementException\u001b[0m: Message: \n"
          ]
        }
      ],
      "source": [
        "search_input = browser.find_element_by_xpath('//div[@role = \"presentation\"]')"
      ]
    },
    {
      "cell_type": "code",
      "execution_count": null,
      "id": "3d66ccfc",
      "metadata": {
        "id": "3d66ccfc",
        "outputId": "ded759fd-b40e-495d-d405-6bf617187089"
      },
      "outputs": [
        {
          "name": "stderr",
          "output_type": "stream",
          "text": [
            "/var/folders/6h/d_sj51tn0nx_3dttgg2_g01w0000gn/T/ipykernel_91762/3545043418.py:1: DeprecationWarning: find_element_by_* commands are deprecated. Please use find_element() instead\n",
            "  browser.find_element_by_link_text('Latest').click()\n"
          ]
        }
      ],
      "source": [
        "browser.find_element_by_link_text('Latest').click()"
      ]
    },
    {
      "cell_type": "markdown",
      "id": "195df714",
      "metadata": {
        "id": "195df714"
      },
      "source": [
        ""
      ]
    },
    {
      "cell_type": "code",
      "execution_count": null,
      "id": "b89384d6-8c78-4305-b837-42456df19686",
      "metadata": {
        "id": "b89384d6-8c78-4305-b837-42456df19686",
        "outputId": "07a397fe-9cad-4a98-87c1-16d9e0734aa1"
      },
      "outputs": [
        {
          "name": "stderr",
          "output_type": "stream",
          "text": [
            "/var/folders/6h/d_sj51tn0nx_3dttgg2_g01w0000gn/T/ipykernel_91762/356756441.py:1: DeprecationWarning: find_elements_by_* commands are deprecated. Please use find_elements() instead\n",
            "  tweets = browser.find_elements_by_xpath('//article[@data-testid=\"tweet\"]')\n"
          ]
        }
      ],
      "source": [
        "tweets = browser.find_elements_by_xpath('//article[@data-testid=\"tweet\"]')"
      ]
    },
    {
      "cell_type": "code",
      "execution_count": null,
      "id": "1a321165-ea3a-4f2e-940b-af14ed42ac84",
      "metadata": {
        "id": "1a321165-ea3a-4f2e-940b-af14ed42ac84",
        "outputId": "a7ac2fa9-06ed-44bf-bb42-a31d094e03c8"
      },
      "outputs": [
        {
          "name": "stderr",
          "output_type": "stream",
          "text": [
            "/Users/muhammadhamza/opt/anaconda3/lib/python3.9/site-packages/selenium/webdriver/remote/webelement.py:393: UserWarning: find_element_by_* commands are deprecated. Please use find_element() instead\n",
            "  warnings.warn(\"find_element_by_* commands are deprecated. Please use find_element() instead\")\n"
          ]
        }
      ],
      "source": [
        "name = tweets[0].find_element_by_xpath('.//span').text\n",
        "id_ = tweets[0].find_element_by_xpath('.//span[contains(text(), \"@\")]').text\n",
        "content = tweets[0].find_element_by_xpath('.//div[1]/div[1]/div[1]/div[2]/div[2]/div[2]/div[1]').text\n",
        "replyTo = tweets[0].find_element_by_xpath('.//div[1]/div[1]/div[1]/div[2]/div[2]/div[2]/div[2]').text"
      ]
    },
    {
      "cell_type": "code",
      "execution_count": null,
      "id": "8dae847f-a2ac-4494-85cf-2a4ca6e5becb",
      "metadata": {
        "id": "8dae847f-a2ac-4494-85cf-2a4ca6e5becb"
      },
      "outputs": [],
      "source": [
        "time = tweets[0].find_element_by_xpath('.//time').get_attribute('datetime')"
      ]
    },
    {
      "cell_type": "code",
      "execution_count": null,
      "id": "da5ce54a",
      "metadata": {
        "id": "da5ce54a",
        "outputId": "e7b14c95-d537-466a-bcae-5a04b3250a38"
      },
      "outputs": [
        {
          "data": {
            "text/plain": [
              "'@4investors'"
            ]
          },
          "execution_count": 19,
          "metadata": {},
          "output_type": "execute_result"
        }
      ],
      "source": [
        "id_"
      ]
    },
    {
      "cell_type": "code",
      "execution_count": null,
      "id": "ffae59f2-2ec0-4b6f-8c57-05a8d4787a1d",
      "metadata": {
        "id": "ffae59f2-2ec0-4b6f-8c57-05a8d4787a1d",
        "outputId": "7cdb5dc1-6500-4a32-b589-199baeb31459"
      },
      "outputs": [
        {
          "data": {
            "text/plain": [
              "\"She was in charge of #COVID19 #vaccine programs for the VA system in Michigan. For 4 months she got away with stealing immunization cards & selling them for up to $200 a pop to folks that didn't want to get vaccinated. Nurse Bethann Kierczak, arrested.\\n\\nhttps://mail.google.com/mail/u/0/?tab=rm&ogbl#inbox?compose=CllgCJqZhTCGWQKFLhcnPjWQXxdrFPFCJJdNHHFJRMtnjlfvpmjXRdrdkgbstcPQTFrcBzzzDHL…\""
            ]
          },
          "execution_count": 43,
          "metadata": {},
          "output_type": "execute_result"
        }
      ],
      "source": [
        "content"
      ]
    },
    {
      "cell_type": "code",
      "execution_count": null,
      "id": "1c9d4e70-3765-48e9-8b9b-0a133c736202",
      "metadata": {
        "id": "1c9d4e70-3765-48e9-8b9b-0a133c736202",
        "outputId": "631b943c-1e24-4734-cecc-93e5ff172f98"
      },
      "outputs": [
        {
          "data": {
            "text/plain": [
              "'page-ABDB97E2-DE22-445F-B1C4-A4C25442A631'"
            ]
          },
          "execution_count": 36,
          "metadata": {},
          "output_type": "execute_result"
        }
      ],
      "source": [
        "browser.current_window_handle"
      ]
    },
    {
      "cell_type": "code",
      "execution_count": null,
      "id": "a56165bd-368a-4cd6-b7da-2c2b44b9c880",
      "metadata": {
        "id": "a56165bd-368a-4cd6-b7da-2c2b44b9c880",
        "outputId": "41720120-df4a-406f-c64d-2bc0ecb388f4"
      },
      "outputs": [
        {
          "data": {
            "text/plain": [
              "['page-ABDB97E2-DE22-445F-B1C4-A4C25442A631']"
            ]
          },
          "execution_count": 35,
          "metadata": {},
          "output_type": "execute_result"
        }
      ],
      "source": [
        "browser.window_handles"
      ]
    },
    {
      "cell_type": "code",
      "execution_count": null,
      "id": "c503062d-e0c2-43ac-a2ae-b4409a5e8346",
      "metadata": {
        "id": "c503062d-e0c2-43ac-a2ae-b4409a5e8346"
      },
      "outputs": [],
      "source": [
        "advance = browser.get('https://twitter.com/search-advanced?f=live')"
      ]
    },
    {
      "cell_type": "code",
      "execution_count": null,
      "id": "048e0007-f99f-4ef5-b691-c38a4414d612",
      "metadata": {
        "id": "048e0007-f99f-4ef5-b691-c38a4414d612"
      },
      "outputs": [],
      "source": [
        "print(type(div))"
      ]
    },
    {
      "cell_type": "code",
      "execution_count": null,
      "id": "36874016-c224-4def-b44a-9d1bb0cd2751",
      "metadata": {
        "id": "36874016-c224-4def-b44a-9d1bb0cd2751"
      },
      "outputs": [],
      "source": [
        "main_window_handle = browser.current_window_handle"
      ]
    },
    {
      "cell_type": "code",
      "execution_count": null,
      "id": "82ebceb8-d182-4e64-aa7c-b48b69c3527f",
      "metadata": {
        "id": "82ebceb8-d182-4e64-aa7c-b48b69c3527f"
      },
      "outputs": [],
      "source": [
        "browser.find_element_by_link_text('Advanced search').click()"
      ]
    },
    {
      "cell_type": "code",
      "execution_count": null,
      "id": "bd93296f-9151-4670-88e4-6a900f5814c9",
      "metadata": {
        "id": "bd93296f-9151-4670-88e4-6a900f5814c9"
      },
      "outputs": [],
      "source": [
        "browser.refresh()"
      ]
    },
    {
      "cell_type": "code",
      "execution_count": null,
      "id": "4cba05cc-1873-4274-959c-d224167d29b5",
      "metadata": {
        "id": "4cba05cc-1873-4274-959c-d224167d29b5"
      },
      "outputs": [],
      "source": [
        "reply = tweets[0].find_element_by_xpath('.//div[@data-testid=\"reply\"]').text"
      ]
    },
    {
      "cell_type": "code",
      "execution_count": null,
      "id": "61db7d3c-207f-4104-b3ba-0e97b9136268",
      "metadata": {
        "id": "61db7d3c-207f-4104-b3ba-0e97b9136268"
      },
      "outputs": [],
      "source": [
        "likes = tweets[0].find_element_by_xpath('.//div[@data-testid=\"like\"]').text"
      ]
    },
    {
      "cell_type": "code",
      "execution_count": null,
      "id": "d06fdcda-82ae-42a5-ba96-d6865e22a48e",
      "metadata": {
        "id": "d06fdcda-82ae-42a5-ba96-d6865e22a48e"
      },
      "outputs": [],
      "source": [
        "retweets = tweets[0].find_element_by_xpath('.//div[@data-testid=\"retweet\"]').text"
      ]
    },
    {
      "cell_type": "code",
      "execution_count": null,
      "id": "05e7b965-af7c-4e82-ba32-cc356dad2c15",
      "metadata": {
        "id": "05e7b965-af7c-4e82-ba32-cc356dad2c15"
      },
      "outputs": [],
      "source": [
        ""
      ]
    },
    {
      "cell_type": "code",
      "execution_count": null,
      "id": "22280517-06b4-481e-bb39-539cc7062553",
      "metadata": {
        "id": "22280517-06b4-481e-bb39-539cc7062553"
      },
      "outputs": [],
      "source": [
        ""
      ]
    }
  ],
  "metadata": {
    "kernelspec": {
      "display_name": "Python 3 (ipykernel)",
      "language": "python",
      "name": "python3"
    },
    "language_info": {
      "codemirror_mode": {
        "name": "ipython",
        "version": 3
      },
      "file_extension": ".py",
      "mimetype": "text/x-python",
      "name": "python",
      "nbconvert_exporter": "python",
      "pygments_lexer": "ipython3",
      "version": "3.9.7"
    },
    "colab": {
      "name": "TwitterScrapper.ipynb",
      "provenance": [],
      "collapsed_sections": []
    }
  },
  "nbformat": 4,
  "nbformat_minor": 5
}